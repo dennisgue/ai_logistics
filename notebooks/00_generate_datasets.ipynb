{
 "cells": [
  {
   "cell_type": "markdown",
   "metadata": {
    "id": "0Ejnck1rRnUh"
   },
   "source": [
    "# Synthetic Route Planning Data Generator\n",
    "\n",
    "**Description:**  \n",
    "This notebook programmatically generates a **synthetic warehouse route-planning dataset** for the logistics AI project. It creates simulated delivery points for multiple warehouses, assigning random customer locations, shipment demands, vehicle capacities, and contextual variables such as delivery priority and traffic conditions.\n",
    "\n",
    "**Goal:**  \n",
    "To produce a realistic dataset **Warehouse_Route_Planning.csv** that will be used in later project phases for **route optimization modeling** (e.g., with OR-Tools or Pyomo).  \n",
    "This dataset complements the real **Product_Demand_Forecasting** data, allowing you to build a full end-to-end pipeline that forecasts shipment volumes and then optimizes delivery routes."
   ]
  },
  {
   "cell_type": "code",
   "execution_count": 1,
   "metadata": {
    "colab": {
     "base_uri": "https://localhost:8080/"
    },
    "executionInfo": {
     "elapsed": 653,
     "status": "ok",
     "timestamp": 1761829616947,
     "user": {
      "displayName": "Dennis Guerreiro",
      "userId": "13713338977291013434"
     },
     "user_tz": 240
    },
    "id": "CZNe6-ePa7JS",
    "outputId": "ef4b84f5-64f4-4301-97b0-669b737b8a11"
   },
   "outputs": [
    {
     "name": "stdout",
     "output_type": "stream",
     "text": [
      "Drive already mounted at /content/drive; to attempt to forcibly remount, call drive.mount(\"/content/drive\", force_remount=True).\n",
      "/content/drive/MyDrive/ai_logistics\n"
     ]
    }
   ],
   "source": [
    "# ====================================================================\n",
    "# Connect Google Drive\n",
    "# ====================================================================\n",
    "from google.colab import drive\n",
    "drive.mount('/content/drive')\n",
    "\n",
    "# Set the working directory\n",
    "%cd /content/drive/MyDrive/ai_logistics"
   ]
  },
  {
   "cell_type": "code",
   "execution_count": 2,
   "metadata": {
    "executionInfo": {
     "elapsed": 2446,
     "status": "ok",
     "timestamp": 1761829619405,
     "user": {
      "displayName": "Dennis Guerreiro",
      "userId": "13713338977291013434"
     },
     "user_tz": 240
    },
    "id": "Cu8qFNv6Zgvo"
   },
   "outputs": [],
   "source": [
    "# =====================================================================\n",
    "# Imports and Setup\n",
    "# =====================================================================\n",
    "import sys, os\n",
    "sys.path.append('/content/drive/MyDrive/ai_logistics')\n",
    "\n",
    "# Make sure next import line includes all functions you need!\n",
    "from utils.utils_data import load_real_dataset, get_unique_warehouses,generate_city_coordinates,generate_route_data,save_dataset\n",
    "\n",
    "import pandas as pd\n",
    "import numpy as np\n",
    "from pathlib import Path\n",
    "# Set random seed for reproducibility\n",
    "np.random.seed(42)"
   ]
  },
  {
   "cell_type": "code",
   "execution_count": 3,
   "metadata": {
    "executionInfo": {
     "elapsed": 2,
     "status": "ok",
     "timestamp": 1761829619410,
     "user": {
      "displayName": "Dennis Guerreiro",
      "userId": "13713338977291013434"
     },
     "user_tz": 240
    },
    "id": "_tIzXgBp9YIn"
   },
   "outputs": [],
   "source": [
    "# =====================================================================\n",
    "# Paths\n",
    "# =====================================================================\n",
    "DATA_DIR = Path(\"data\")\n",
    "DATA_DIR.mkdir(exist_ok=True)\n",
    "\n",
    "# Since the working directory was already set with:\n",
    "# %cd /content/drive/MyDrive/ai_logistics_project\n",
    "# all paths below are relative to that location\n",
    "REAL_DATA_PATH = DATA_DIR / \"Historical_Product_Demand.csv\"\n",
    "OUTPUT_PATH = DATA_DIR / \"Warehouse_Route_Planning.csv\""
   ]
  },
  {
   "cell_type": "markdown",
   "metadata": {
    "id": "FVQe3ajGW53X"
   },
   "source": [
    "## Generate Synthetic Route Optimization Dataset\n",
    "\n",
    "In this phase, we generated a synthetic dataset to complement the real *Historical Product Demand* data.  \n",
    "The goal was to simulate realistic delivery points, customer demand, and traffic conditions around four warehouses in Spain.\n",
    "\n",
    "Each step in the main execution cell corresponds directly to a function in `utils_data.py`, which keeps the process modular and production-ready.  \n",
    "The workflow includes:\n",
    "1. Loading and validating the real dataset.  \n",
    "2. Extracting unique warehouse identifiers.  \n",
    "3. Generating coordinates for each warehouse.  \n",
    "4. Creating synthetic customer delivery points with demand and traffic features.  \n",
    "5. Saving the generated dataset for future analysis.\n"
   ]
  },
  {
   "cell_type": "code",
   "execution_count": 4,
   "metadata": {
    "colab": {
     "base_uri": "https://localhost:8080/"
    },
    "executionInfo": {
     "elapsed": 2481,
     "status": "ok",
     "timestamp": 1761829621894,
     "user": {
      "displayName": "Dennis Guerreiro",
      "userId": "13713338977291013434"
     },
     "user_tz": 240
    },
    "id": "VPOw-kXH7Pnf",
    "outputId": "91d0d7bc-c2e1-4ca0-dbf9-98197ebadeaa"
   },
   "outputs": [
    {
     "name": "stdout",
     "output_type": "stream",
     "text": [
      "Loaded dataset with 1,048,575 rows and 4 unique warehouses.\n",
      "Detected 4 warehouses: ['Whse_A', 'Whse_C', 'Whse_J', 'Whse_S']\n",
      "Generated 16 route records for 4 warehouses.\n",
      "Saved dataset to /content/drive/MyDrive/ai_logistics/data/Warehouse_Route_Planning.csv\n",
      "  Warehouse    Customer_ID  Latitude  Longitude  Demand  Vehicle_Capacity  \\\n",
      "0    Whse_A  Whse_A_CUST_1   40.4075    -3.6549     156               500   \n",
      "1    Whse_A  Whse_A_CUST_2   40.4146    -3.7400     137               500   \n",
      "2    Whse_A  Whse_A_CUST_3   40.4351    -3.7444     137               500   \n",
      "3    Whse_A  Whse_A_CUST_4   40.3882    -3.7317     107               500   \n",
      "4    Whse_C  Whse_C_CUST_1   41.3591     2.1812     219               500   \n",
      "5    Whse_C  Whse_C_CUST_2   41.3533     2.1291     239               500   \n",
      "6    Whse_C  Whse_C_CUST_3   41.3892     2.1246     100               500   \n",
      "7    Whse_C  Whse_C_CUST_4   41.3313     2.2142      63               500   \n",
      "8    Whse_J  Whse_J_CUST_1   37.3398    -5.9716     160               500   \n",
      "9    Whse_J  Whse_J_CUST_2   37.4133    -6.0227     130               500   \n",
      "\n",
      "  Priority_Level Traffic_Condition  \n",
      "0            Low            Medium  \n",
      "1         Medium               Low  \n",
      "2            Low               Low  \n",
      "3         Medium            Medium  \n",
      "4           High              High  \n",
      "5           High            Medium  \n",
      "6         Medium            Medium  \n",
      "7            Low               Low  \n",
      "8         Medium            Medium  \n",
      "9         Medium            Medium  \n",
      "\n",
      " Synthetic route dataset generation complete!\n"
     ]
    }
   ],
   "source": [
    "# =====================================================================\n",
    "# Main Execution\n",
    "# =====================================================================\n",
    "if __name__ == \"__main__\":\n",
    "    # ---------------------------------------------------------\n",
    "    # Step 1. Load the real dataset\n",
    "    # (uses: load_real_dataset)\n",
    "    # ---------------------------------------------------------\n",
    "    df_real = load_real_dataset(REAL_DATA_PATH)\n",
    "\n",
    "    # ---------------------------------------------------------\n",
    "    # Step 2. Extract unique warehouse codes\n",
    "    # (uses: get_unique_warehouses)\n",
    "    # ---------------------------------------------------------\n",
    "    warehouse_list = get_unique_warehouses(df_real)\n",
    "\n",
    "    # ---------------------------------------------------------\n",
    "    # Step 3. Generate coordinates for each warehouse\n",
    "    # (uses: generate_city_coordinates)\n",
    "    # ---------------------------------------------------------\n",
    "    coordinates = generate_city_coordinates(len(warehouse_list))\n",
    "\n",
    "    # ---------------------------------------------------------\n",
    "    # Step 4. Generate synthetic route data\n",
    "    # (uses: generate_route_data)\n",
    "    # ---------------------------------------------------------\n",
    "    df_routes = generate_route_data(warehouse_list, coordinates, customers_per_warehouse=4)\n",
    "\n",
    "    # ---------------------------------------------------------\n",
    "    # Step 5. Save the generated dataset\n",
    "    # (uses: save_dataset)\n",
    "    # ---------------------------------------------------------\n",
    "    save_dataset(df_routes, OUTPUT_PATH)\n",
    "\n",
    "    print(\"\\n Synthetic route dataset generation complete!\")"
   ]
  }
 ],
 "metadata": {
  "colab": {
   "authorship_tag": "ABX9TyMqDEf/pVHi9KkSpIq8Gjas",
   "provenance": []
  },
  "kernelspec": {
   "display_name": "Python 3",
   "name": "python3"
  },
  "language_info": {
   "name": "python"
  }
 },
 "nbformat": 4,
 "nbformat_minor": 0
}
